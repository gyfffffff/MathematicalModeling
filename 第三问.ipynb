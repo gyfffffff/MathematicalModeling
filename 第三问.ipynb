{
 "cells": [
  {
   "cell_type": "code",
   "execution_count": 18,
   "metadata": {
    "ExecuteTime": {
     "end_time": "2023-08-29T02:52:25.856775100Z",
     "start_time": "2023-08-29T02:52:25.829526Z"
    }
   },
   "outputs": [],
   "source": [
    "import pickle\n",
    "import pandas as pd\n",
    "import numpy as np"
   ]
  },
  {
   "cell_type": "code",
   "execution_count": 3,
   "metadata": {
    "ExecuteTime": {
     "end_time": "2023-08-29T02:04:34.218662500Z",
     "start_time": "2023-08-29T02:04:33.993487Z"
    }
   },
   "outputs": [
    {
     "data": {
      "text/plain": "              kh   xb                    djsj                   dtime  \\\n0       a37cc182  0.0 2004-12-31 21:24:34.216 2016-09-25 10:49:14.016   \n1       a37cc182  0.0 2004-12-31 21:24:34.216 2016-09-25 10:49:14.016   \n2       a37cc182  0.0 2004-12-31 21:24:34.216 2017-02-28 17:17:35.533   \n3       34c2dc93  0.0 2007-04-19 00:00:00.000 2017-11-13 13:36:45.656   \n4       828aa9b4  0.0 2004-09-24 16:39:08.716 2017-05-17 11:30:39.080   \n...          ...  ...                     ...                     ...   \n542630  978bf4cc  0.0 2012-12-17 00:00:00.000 2017-11-26 17:54:05.063   \n542631  7adcdd4e  0.0 2013-08-30 00:00:00.000 2017-01-18 17:35:30.533   \n542632  5cf06746  0.0 2013-08-30 00:00:00.000 2017-10-29 13:47:11.046   \n542633  5cf06746  0.0 2013-08-30 00:00:00.000 2017-10-29 13:47:11.046   \n542634  5cf06746  0.0 2013-08-30 00:00:00.000 2017-10-29 15:18:28.453   \n\n            spbm  sl       sj        je             spmc        jf   djh  \\\n0       d62a69e3   1  12288.0  11089.93           WMF D无  11089.92  7cd8   \n1       d62a69e3   1    499.0    297.07           WMF D无    297.08  7cd8   \n2       252403ef   1    598.0    598.00         双立人商品 F无    598.00  ed0a   \n3       4708e0bb   1    260.0    260.00  植村秀三色眼影/眼线液/眉笔.    260.00  c3f4   \n4       a4809307   1   1288.0   1288.00             酷彩F件   1288.00  95b0   \n...          ...  ..      ...       ...              ...       ...   ...   \n542630  36d50bfb   1   8096.0   7934.08              浪琴.   1587.00  8a3f   \n542631  886d14dc   1    498.0    498.00         双立人商品系列无    498.00  ba1d   \n542632  083ad3b7   1   2880.0   2880.00           威可多 F.   2880.00  25bb   \n542633  083ad3b7   1   1320.0   1320.00           威可多 F.   1320.00  25bb   \n542634  c7c36a0d   1    323.0    123.00       玛丽亚·古奇B.5件    123.00  95b0   \n\n        gzbm       yh    nl  dayofweek  hour  \n0       7296  1198.07  51.0          6    10  \n1       7296   201.93  51.0          6    10  \n2       7242     0.00  51.0          1    17  \n3       8156     0.00  32.0          0    13  \n4       7300     0.00  67.0          2    11  \n...      ...      ...   ...        ...   ...  \n542630  8078   161.92  35.0          6    17  \n542631  7242     0.00  46.0          2    17  \n542632  5445     0.00  45.0          6    13  \n542633  5445     0.00  45.0          6    13  \n542634  4369   200.00  45.0          6    15  \n\n[542635 rows x 16 columns]",
      "text/html": "<div>\n<style scoped>\n    .dataframe tbody tr th:only-of-type {\n        vertical-align: middle;\n    }\n\n    .dataframe tbody tr th {\n        vertical-align: top;\n    }\n\n    .dataframe thead th {\n        text-align: right;\n    }\n</style>\n<table border=\"1\" class=\"dataframe\">\n  <thead>\n    <tr style=\"text-align: right;\">\n      <th></th>\n      <th>kh</th>\n      <th>xb</th>\n      <th>djsj</th>\n      <th>dtime</th>\n      <th>spbm</th>\n      <th>sl</th>\n      <th>sj</th>\n      <th>je</th>\n      <th>spmc</th>\n      <th>jf</th>\n      <th>djh</th>\n      <th>gzbm</th>\n      <th>yh</th>\n      <th>nl</th>\n      <th>dayofweek</th>\n      <th>hour</th>\n    </tr>\n  </thead>\n  <tbody>\n    <tr>\n      <th>0</th>\n      <td>a37cc182</td>\n      <td>0.0</td>\n      <td>2004-12-31 21:24:34.216</td>\n      <td>2016-09-25 10:49:14.016</td>\n      <td>d62a69e3</td>\n      <td>1</td>\n      <td>12288.0</td>\n      <td>11089.93</td>\n      <td>WMF D无</td>\n      <td>11089.92</td>\n      <td>7cd8</td>\n      <td>7296</td>\n      <td>1198.07</td>\n      <td>51.0</td>\n      <td>6</td>\n      <td>10</td>\n    </tr>\n    <tr>\n      <th>1</th>\n      <td>a37cc182</td>\n      <td>0.0</td>\n      <td>2004-12-31 21:24:34.216</td>\n      <td>2016-09-25 10:49:14.016</td>\n      <td>d62a69e3</td>\n      <td>1</td>\n      <td>499.0</td>\n      <td>297.07</td>\n      <td>WMF D无</td>\n      <td>297.08</td>\n      <td>7cd8</td>\n      <td>7296</td>\n      <td>201.93</td>\n      <td>51.0</td>\n      <td>6</td>\n      <td>10</td>\n    </tr>\n    <tr>\n      <th>2</th>\n      <td>a37cc182</td>\n      <td>0.0</td>\n      <td>2004-12-31 21:24:34.216</td>\n      <td>2017-02-28 17:17:35.533</td>\n      <td>252403ef</td>\n      <td>1</td>\n      <td>598.0</td>\n      <td>598.00</td>\n      <td>双立人商品 F无</td>\n      <td>598.00</td>\n      <td>ed0a</td>\n      <td>7242</td>\n      <td>0.00</td>\n      <td>51.0</td>\n      <td>1</td>\n      <td>17</td>\n    </tr>\n    <tr>\n      <th>3</th>\n      <td>34c2dc93</td>\n      <td>0.0</td>\n      <td>2007-04-19 00:00:00.000</td>\n      <td>2017-11-13 13:36:45.656</td>\n      <td>4708e0bb</td>\n      <td>1</td>\n      <td>260.0</td>\n      <td>260.00</td>\n      <td>植村秀三色眼影/眼线液/眉笔.</td>\n      <td>260.00</td>\n      <td>c3f4</td>\n      <td>8156</td>\n      <td>0.00</td>\n      <td>32.0</td>\n      <td>0</td>\n      <td>13</td>\n    </tr>\n    <tr>\n      <th>4</th>\n      <td>828aa9b4</td>\n      <td>0.0</td>\n      <td>2004-09-24 16:39:08.716</td>\n      <td>2017-05-17 11:30:39.080</td>\n      <td>a4809307</td>\n      <td>1</td>\n      <td>1288.0</td>\n      <td>1288.00</td>\n      <td>酷彩F件</td>\n      <td>1288.00</td>\n      <td>95b0</td>\n      <td>7300</td>\n      <td>0.00</td>\n      <td>67.0</td>\n      <td>2</td>\n      <td>11</td>\n    </tr>\n    <tr>\n      <th>...</th>\n      <td>...</td>\n      <td>...</td>\n      <td>...</td>\n      <td>...</td>\n      <td>...</td>\n      <td>...</td>\n      <td>...</td>\n      <td>...</td>\n      <td>...</td>\n      <td>...</td>\n      <td>...</td>\n      <td>...</td>\n      <td>...</td>\n      <td>...</td>\n      <td>...</td>\n      <td>...</td>\n    </tr>\n    <tr>\n      <th>542630</th>\n      <td>978bf4cc</td>\n      <td>0.0</td>\n      <td>2012-12-17 00:00:00.000</td>\n      <td>2017-11-26 17:54:05.063</td>\n      <td>36d50bfb</td>\n      <td>1</td>\n      <td>8096.0</td>\n      <td>7934.08</td>\n      <td>浪琴.</td>\n      <td>1587.00</td>\n      <td>8a3f</td>\n      <td>8078</td>\n      <td>161.92</td>\n      <td>35.0</td>\n      <td>6</td>\n      <td>17</td>\n    </tr>\n    <tr>\n      <th>542631</th>\n      <td>7adcdd4e</td>\n      <td>0.0</td>\n      <td>2013-08-30 00:00:00.000</td>\n      <td>2017-01-18 17:35:30.533</td>\n      <td>886d14dc</td>\n      <td>1</td>\n      <td>498.0</td>\n      <td>498.00</td>\n      <td>双立人商品系列无</td>\n      <td>498.00</td>\n      <td>ba1d</td>\n      <td>7242</td>\n      <td>0.00</td>\n      <td>46.0</td>\n      <td>2</td>\n      <td>17</td>\n    </tr>\n    <tr>\n      <th>542632</th>\n      <td>5cf06746</td>\n      <td>0.0</td>\n      <td>2013-08-30 00:00:00.000</td>\n      <td>2017-10-29 13:47:11.046</td>\n      <td>083ad3b7</td>\n      <td>1</td>\n      <td>2880.0</td>\n      <td>2880.00</td>\n      <td>威可多 F.</td>\n      <td>2880.00</td>\n      <td>25bb</td>\n      <td>5445</td>\n      <td>0.00</td>\n      <td>45.0</td>\n      <td>6</td>\n      <td>13</td>\n    </tr>\n    <tr>\n      <th>542633</th>\n      <td>5cf06746</td>\n      <td>0.0</td>\n      <td>2013-08-30 00:00:00.000</td>\n      <td>2017-10-29 13:47:11.046</td>\n      <td>083ad3b7</td>\n      <td>1</td>\n      <td>1320.0</td>\n      <td>1320.00</td>\n      <td>威可多 F.</td>\n      <td>1320.00</td>\n      <td>25bb</td>\n      <td>5445</td>\n      <td>0.00</td>\n      <td>45.0</td>\n      <td>6</td>\n      <td>13</td>\n    </tr>\n    <tr>\n      <th>542634</th>\n      <td>5cf06746</td>\n      <td>0.0</td>\n      <td>2013-08-30 00:00:00.000</td>\n      <td>2017-10-29 15:18:28.453</td>\n      <td>c7c36a0d</td>\n      <td>1</td>\n      <td>323.0</td>\n      <td>123.00</td>\n      <td>玛丽亚·古奇B.5件</td>\n      <td>123.00</td>\n      <td>95b0</td>\n      <td>4369</td>\n      <td>200.00</td>\n      <td>45.0</td>\n      <td>6</td>\n      <td>15</td>\n    </tr>\n  </tbody>\n</table>\n<p>542635 rows × 16 columns</p>\n</div>"
     },
     "execution_count": 3,
     "metadata": {},
     "output_type": "execute_result"
    }
   ],
   "source": [
    "with open('（本店）会员信息和会员消费.pkl', 'rb') as f:\n",
    "    df1 = pickle.load(f)\n",
    "df1"
   ]
  },
  {
   "cell_type": "code",
   "execution_count": 32,
   "metadata": {
    "ExecuteTime": {
     "end_time": "2023-08-29T03:15:12.155803900Z",
     "start_time": "2023-08-29T03:15:12.027114300Z"
    }
   },
   "outputs": [
    {
     "data": {
      "text/plain": "              kh   xb                    djsj                   dtime  \\\n57993   80bb4742  0.0 2015-01-02 00:00:00.000 2015-01-02 18:14:48.390   \n55070   efa34fe7  0.0 2015-01-02 00:00:00.000 2015-02-07 19:31:05.876   \n55071   efa34fe7  0.0 2015-01-02 00:00:00.000 2015-02-07 19:31:05.876   \n90281   0b6c3586  1.0 2015-01-02 00:00:00.000 2017-03-05 16:45:11.063   \n90282   0b6c3586  1.0 2015-01-02 00:00:00.000 2017-03-05 16:39:53.766   \n...          ...  ...                     ...                     ...   \n451716  d9bbaa86  0.0 2018-01-03 19:40:31.550 2018-01-03 19:40:21.580   \n451717  d9bbaa86  0.0 2018-01-03 19:40:31.550 2018-01-03 19:40:21.580   \n143870  69de49e9  0.0 2018-01-03 20:41:57.733 2018-01-03 21:08:58.063   \n143872  69de49e9  0.0 2018-01-03 20:41:57.733 2018-01-03 21:08:58.063   \n143871  69de49e9  0.0 2018-01-03 20:41:57.733 2018-01-03 21:08:58.063   \n\n            spbm  sl      sj      je                 spmc       jf   djh  \\\n57993   f5d625a3   1  1254.0  1254.0               VJC D件  1254.00  b2c3   \n55070   beddefc5   1   880.0   880.0         倩碧匀净卓研淡斑优惠套.    33.85  898d   \n55071   aa12d868   1   160.0   160.0     倩碧水漾/蜡笔小胖唇膏/眼影2G     6.15  898d   \n90281   2c6b9746   1  1518.0  1418.0            圣伽步休闲鞋 B.     0.00  fcd0   \n90282   7ee57b5f   1  3863.0  3563.0               斯丹男鞋A双     0.00  25bb   \n...          ...  ..     ...     ...                  ...      ...   ...   \n451716    831560   2  1520.0  3040.0  香奈儿可可小姐/邂逅香水喷装100ml  3040.00  b323   \n451717    831560   2  1520.0  3040.0  香奈儿可可小姐/邂逅香水喷装100ml  3040.00  b323   \n143870  88111139   1   560.0   560.0        科颜氏高保湿面霜125ml   560.00  2d09   \n143872  4e727693   1   640.0   640.0          科颜氏丰润保湿精华乳.   640.00  2d09   \n143871  1c680610   1   550.0   550.0       科颜氏金盏花爽肤水500ml   550.00  2d09   \n\n        gzbm      yh    nl  dayofweek  hour  \n57993   5462     0.0  37.0          4    18  \n55070   8086     0.0  31.0          5    19  \n55071   8086     0.0  31.0          5    19  \n90281   5449   100.0  46.0          6    16  \n90282   5447   300.0  46.0          6    16  \n...      ...     ...   ...        ...   ...  \n451716  8079 -1520.0  31.0          2    19  \n451717  8079 -1520.0  31.0          2    19  \n143870  8186     0.0  30.0          2    21  \n143872  8186     0.0  30.0          2    21  \n143871  8186     0.0  30.0          2    21  \n\n[277434 rows x 16 columns]",
      "text/html": "<div>\n<style scoped>\n    .dataframe tbody tr th:only-of-type {\n        vertical-align: middle;\n    }\n\n    .dataframe tbody tr th {\n        vertical-align: top;\n    }\n\n    .dataframe thead th {\n        text-align: right;\n    }\n</style>\n<table border=\"1\" class=\"dataframe\">\n  <thead>\n    <tr style=\"text-align: right;\">\n      <th></th>\n      <th>kh</th>\n      <th>xb</th>\n      <th>djsj</th>\n      <th>dtime</th>\n      <th>spbm</th>\n      <th>sl</th>\n      <th>sj</th>\n      <th>je</th>\n      <th>spmc</th>\n      <th>jf</th>\n      <th>djh</th>\n      <th>gzbm</th>\n      <th>yh</th>\n      <th>nl</th>\n      <th>dayofweek</th>\n      <th>hour</th>\n    </tr>\n  </thead>\n  <tbody>\n    <tr>\n      <th>57993</th>\n      <td>80bb4742</td>\n      <td>0.0</td>\n      <td>2015-01-02 00:00:00.000</td>\n      <td>2015-01-02 18:14:48.390</td>\n      <td>f5d625a3</td>\n      <td>1</td>\n      <td>1254.0</td>\n      <td>1254.0</td>\n      <td>VJC D件</td>\n      <td>1254.00</td>\n      <td>b2c3</td>\n      <td>5462</td>\n      <td>0.0</td>\n      <td>37.0</td>\n      <td>4</td>\n      <td>18</td>\n    </tr>\n    <tr>\n      <th>55070</th>\n      <td>efa34fe7</td>\n      <td>0.0</td>\n      <td>2015-01-02 00:00:00.000</td>\n      <td>2015-02-07 19:31:05.876</td>\n      <td>beddefc5</td>\n      <td>1</td>\n      <td>880.0</td>\n      <td>880.0</td>\n      <td>倩碧匀净卓研淡斑优惠套.</td>\n      <td>33.85</td>\n      <td>898d</td>\n      <td>8086</td>\n      <td>0.0</td>\n      <td>31.0</td>\n      <td>5</td>\n      <td>19</td>\n    </tr>\n    <tr>\n      <th>55071</th>\n      <td>efa34fe7</td>\n      <td>0.0</td>\n      <td>2015-01-02 00:00:00.000</td>\n      <td>2015-02-07 19:31:05.876</td>\n      <td>aa12d868</td>\n      <td>1</td>\n      <td>160.0</td>\n      <td>160.0</td>\n      <td>倩碧水漾/蜡笔小胖唇膏/眼影2G</td>\n      <td>6.15</td>\n      <td>898d</td>\n      <td>8086</td>\n      <td>0.0</td>\n      <td>31.0</td>\n      <td>5</td>\n      <td>19</td>\n    </tr>\n    <tr>\n      <th>90281</th>\n      <td>0b6c3586</td>\n      <td>1.0</td>\n      <td>2015-01-02 00:00:00.000</td>\n      <td>2017-03-05 16:45:11.063</td>\n      <td>2c6b9746</td>\n      <td>1</td>\n      <td>1518.0</td>\n      <td>1418.0</td>\n      <td>圣伽步休闲鞋 B.</td>\n      <td>0.00</td>\n      <td>fcd0</td>\n      <td>5449</td>\n      <td>100.0</td>\n      <td>46.0</td>\n      <td>6</td>\n      <td>16</td>\n    </tr>\n    <tr>\n      <th>90282</th>\n      <td>0b6c3586</td>\n      <td>1.0</td>\n      <td>2015-01-02 00:00:00.000</td>\n      <td>2017-03-05 16:39:53.766</td>\n      <td>7ee57b5f</td>\n      <td>1</td>\n      <td>3863.0</td>\n      <td>3563.0</td>\n      <td>斯丹男鞋A双</td>\n      <td>0.00</td>\n      <td>25bb</td>\n      <td>5447</td>\n      <td>300.0</td>\n      <td>46.0</td>\n      <td>6</td>\n      <td>16</td>\n    </tr>\n    <tr>\n      <th>...</th>\n      <td>...</td>\n      <td>...</td>\n      <td>...</td>\n      <td>...</td>\n      <td>...</td>\n      <td>...</td>\n      <td>...</td>\n      <td>...</td>\n      <td>...</td>\n      <td>...</td>\n      <td>...</td>\n      <td>...</td>\n      <td>...</td>\n      <td>...</td>\n      <td>...</td>\n      <td>...</td>\n    </tr>\n    <tr>\n      <th>451716</th>\n      <td>d9bbaa86</td>\n      <td>0.0</td>\n      <td>2018-01-03 19:40:31.550</td>\n      <td>2018-01-03 19:40:21.580</td>\n      <td>831560</td>\n      <td>2</td>\n      <td>1520.0</td>\n      <td>3040.0</td>\n      <td>香奈儿可可小姐/邂逅香水喷装100ml</td>\n      <td>3040.00</td>\n      <td>b323</td>\n      <td>8079</td>\n      <td>-1520.0</td>\n      <td>31.0</td>\n      <td>2</td>\n      <td>19</td>\n    </tr>\n    <tr>\n      <th>451717</th>\n      <td>d9bbaa86</td>\n      <td>0.0</td>\n      <td>2018-01-03 19:40:31.550</td>\n      <td>2018-01-03 19:40:21.580</td>\n      <td>831560</td>\n      <td>2</td>\n      <td>1520.0</td>\n      <td>3040.0</td>\n      <td>香奈儿可可小姐/邂逅香水喷装100ml</td>\n      <td>3040.00</td>\n      <td>b323</td>\n      <td>8079</td>\n      <td>-1520.0</td>\n      <td>31.0</td>\n      <td>2</td>\n      <td>19</td>\n    </tr>\n    <tr>\n      <th>143870</th>\n      <td>69de49e9</td>\n      <td>0.0</td>\n      <td>2018-01-03 20:41:57.733</td>\n      <td>2018-01-03 21:08:58.063</td>\n      <td>88111139</td>\n      <td>1</td>\n      <td>560.0</td>\n      <td>560.0</td>\n      <td>科颜氏高保湿面霜125ml</td>\n      <td>560.00</td>\n      <td>2d09</td>\n      <td>8186</td>\n      <td>0.0</td>\n      <td>30.0</td>\n      <td>2</td>\n      <td>21</td>\n    </tr>\n    <tr>\n      <th>143872</th>\n      <td>69de49e9</td>\n      <td>0.0</td>\n      <td>2018-01-03 20:41:57.733</td>\n      <td>2018-01-03 21:08:58.063</td>\n      <td>4e727693</td>\n      <td>1</td>\n      <td>640.0</td>\n      <td>640.0</td>\n      <td>科颜氏丰润保湿精华乳.</td>\n      <td>640.00</td>\n      <td>2d09</td>\n      <td>8186</td>\n      <td>0.0</td>\n      <td>30.0</td>\n      <td>2</td>\n      <td>21</td>\n    </tr>\n    <tr>\n      <th>143871</th>\n      <td>69de49e9</td>\n      <td>0.0</td>\n      <td>2018-01-03 20:41:57.733</td>\n      <td>2018-01-03 21:08:58.063</td>\n      <td>1c680610</td>\n      <td>1</td>\n      <td>550.0</td>\n      <td>550.0</td>\n      <td>科颜氏金盏花爽肤水500ml</td>\n      <td>550.00</td>\n      <td>2d09</td>\n      <td>8186</td>\n      <td>0.0</td>\n      <td>30.0</td>\n      <td>2</td>\n      <td>21</td>\n    </tr>\n  </tbody>\n</table>\n<p>277434 rows × 16 columns</p>\n</div>"
     },
     "execution_count": 32,
     "metadata": {},
     "output_type": "execute_result"
    }
   ],
   "source": [
    "df10 = df1[df1['djsj']>np.datetime64('2015-01-01')]  # 2015之后的会员\n",
    "df10.sort_values(by='djsj')"
   ]
  },
  {
   "cell_type": "markdown",
   "source": [
    "时间窗口：2015-01-01 到 2018-01-03  （观察到会员消费表中最早的消费记录是从2015-01-01开始，在次此之前注册的会员并没有在此之前的消费记录，所以从2015年开始考虑）\n",
    "\n",
    "生命周期开始：登记时间\n",
    "\n",
    "生命周期结束：最后一次消费时间\n",
    "\n",
    "参考文献“唐雪梅,赖胜强,汪玲.客户盈利金字塔模型的建立及其运用[J].攀枝花学院学报,2004(03):26-29.”，建立活跃度金字塔模型。\n",
    "====== 铂金（最活跃）==\n",
    "==== 黄金 ------（较活跃）==\n",
    "=== 铁层 --------（活跃度低）===\n",
    "== 铅层 -----------（偶尔消费）====\n",
    "= 潜在客户 ---------（从未消费）=====\n",
    "\n",
    "各层级的客户群具有如下特点：铂金层客户约占客户总数的5％左右，是企业利润重要的稳定的来源，也是对企业忠诚度最高的客户层。这部分顾客一方面购买大量的产品为企业直接提供\n",
    "利润，另一方面通过口碑宣传为企业创造巨大的间接效益；黄金层客户约占企业客户总数的25％左右，有较强忠诚度，但没有固定的品牌嗜好，容易在几个企业之间选择，是企业争夺的焦点。一旦他们加强了对公司的忠诚度提升到铂金层就能给企业带来较高的收益。**黄金会员和铂金会员都可定义为活跃会员**。铁层客户数量占企业客户群中的大部分，其忠诚度低，流动性强，对价格敏感，单一客户为企业的创利不多；铅层顾客给企业带来的利润非常的少，或者不给企业带来利润的顾客层。\n",
    "\n",
    "用第二问中的会员价值衡量体系来量化“活跃度”。活跃度在当前所有有消费记录的会员中前5%的，是铂金会员；前5%-30%是黄金会员；30%-80%是铁层会员，剩下的有过消费记录的会员是铅层会员，从未消费的是潜在客户。会员登记注册时，默认都是非活跃会员，随着会员的消费活动，会员层级会在金字塔中上下移动。比如一个刚刚注册为会员就经常来商场消费的会员，很可能升到黄金层甚至铂金层；而一个曾经消费活跃后来再也不消费的会员，可能从铂金层下降至铁层。\n",
    "\n",
    "商场每周对会员进行一次等级重排。"
   ],
   "metadata": {
    "collapsed": false
   }
  },
  {
   "cell_type": "code",
   "execution_count": 31,
   "outputs": [],
   "source": [
    "# 输入卡号，输出该会员的购买频率，平均购买间隔\n",
    "def timeindex(kh):\n",
    "    df11 = df1[df1['kh'] == kh][['kh', 'dtime']]\n",
    "    df12 = df11.drop_duplicates()\n",
    "    df12 = df12.sort_values(by='dtime')\n",
    "    df12['dist'] = df12['dtime'] - df12['dtime'].shift()\n",
    "    alldays = pd.to_datetime('2018-01-01') - df12.iloc[0, 1]\n",
    "    gmpl = df12.shape[0] / alldays.days\n",
    "    gmjgavg = df12['dist'][1:].mean().days if df12.shape[0] > 1 else 0\n",
    "    return gmpl, gmjgavg\n",
    "\n",
    "\n",
    "# 输入卡号，输出金额中位数，均值，方差\n",
    "def payindex(kh):\n",
    "    df11 = df1[df1['kh'] == kh][['dtime', 'je']]\n",
    "    df12 = df11.groupby('dtime').sum()\n",
    "    je_avg = df12['je'].mean()\n",
    "    je_med = df12['je'].median()\n",
    "    je_var = df12['je'].std()\n",
    "    return je_med, np.around(je_avg, 1), np.around(je_var, 1)\n",
    "\n",
    "# 输入卡号，输出相同商品/商品类型/专柜最多重复购买次数，购买数量均值\n",
    "def hgindex(kh):\n",
    "    df11 = df1[df1['kh']==kh][['dtime','sl', 'spmc' , 'lbbm', 'gzbm']]\n",
    "    sphgavg = df11[['sl', 'spmc']].groupby('spmc').sum().max()[0] # 商品最多回购\n",
    "    lbhgavg = df11[['sl', 'lbbm']].groupby('lbbm').sum().max()[0] # 类别最多回购\n",
    "    gzhbavg = df11[['sl', 'gzbm']].groupby('gzbm').sum().max()[0] # 柜组最多回购\n",
    "    slavg = df11[['sl']].mean()[0]\n",
    "    return sphgavg, lbhgavg, gzhbavg,slavg"
   ],
   "metadata": {
    "collapsed": false,
    "ExecuteTime": {
     "end_time": "2023-08-29T03:13:50.707323200Z",
     "start_time": "2023-08-29T03:13:50.695203100Z"
    }
   }
  },
  {
   "cell_type": "code",
   "execution_count": 47,
   "outputs": [
    {
     "data": {
      "text/plain": "451516     1.0\n451632     1.0\n451633     1.0\n143155     1.0\n451643     1.0\n          ... \n190110    98.0\n190108    98.0\n190107    98.0\n190116    98.0\n190109    98.0\nName: nl, Length: 473239, dtype: float64"
     },
     "execution_count": 47,
     "metadata": {},
     "output_type": "execute_result"
    }
   ],
   "source": [
    "# idx = list(df1['nl'].dropna().argsort())[-1]\n",
    "# df1.loc[idx]\n",
    "df1['nl'].dropna().sort_values()"
   ],
   "metadata": {
    "collapsed": false,
    "ExecuteTime": {
     "end_time": "2023-08-29T03:27:24.176083900Z",
     "start_time": "2023-08-29T03:27:24.128938300Z"
    }
   }
  }
 ],
 "metadata": {
  "kernelspec": {
   "display_name": "base",
   "language": "python",
   "name": "python3"
  },
  "language_info": {
   "codemirror_mode": {
    "name": "ipython",
    "version": 3
   },
   "file_extension": ".py",
   "mimetype": "text/x-python",
   "name": "python",
   "nbconvert_exporter": "python",
   "pygments_lexer": "ipython3",
   "version": "3.7.6"
  },
  "orig_nbformat": 4
 },
 "nbformat": 4,
 "nbformat_minor": 2
}
