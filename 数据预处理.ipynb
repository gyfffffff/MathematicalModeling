{
 "cells": [
  {
   "cell_type": "code",
   "execution_count": null,
   "metadata": {},
   "outputs": [],
   "source": [
    "import pandas as pd"
   ]
  },
  {
   "cell_type": "code",
   "execution_count": null,
   "metadata": {},
   "outputs": [],
   "source": [
    "# 依次读入数据并查看缺失值情况\n",
    "hyinfo_df = pd.read_excel('附件1-会员信息表.xlsx',sheet_name=0)"
   ]
  },
  {
   "cell_type": "code",
   "execution_count": null,
   "metadata": {},
   "outputs": [],
   "source": [
    "hyinfo_df.isna().sum()"
   ]
  },
  {
   "cell_type": "code",
   "execution_count": null,
   "metadata": {},
   "outputs": [],
   "source": [
    "xsls_df = pd.read_excel('附件2-销售流水表.xlsx')\n",
    "xsls_df.isna().sum()"
   ]
  },
  {
   "cell_type": "code",
   "execution_count": null,
   "metadata": {},
   "outputs": [],
   "source": [
    "hyxf_df = pd.read_excel('附件3-会员消费明细表.xlsx')\n",
    "hyxf_df.isna().sum()"
   ]
  },
  {
   "cell_type": "code",
   "execution_count": null,
   "metadata": {},
   "outputs": [],
   "source": [
    "spinfo_df = pd.read_excel('附件4-商品信息表.xlsx')\n",
    "spinfo_df.isna().sum()"
   ]
  },
  {
   "cell_type": "code",
   "execution_count": null,
   "metadata": {},
   "outputs": [],
   "source": [
    "# 删除spinfo_df中有空值的行\n",
    "nullidx = spinfo_df[spinfo_df.isna().any(axis=1)].index"
   ]
  },
  {
   "cell_type": "code",
   "execution_count": null,
   "metadata": {},
   "outputs": [],
   "source": [
    "spinfo_df = spinfo_df.drop(index=nullidx)"
   ]
  },
  {
   "cell_type": "code",
   "execution_count": null,
   "metadata": {},
   "outputs": [],
   "source": [
    "# 发现商品信息表中很多进价为0的商品，推测是这些专柜已经撤离，所以删除进价为0的商品\n",
    "# zeroidx = spinfo_df[spinfo_df['sj']==0.0].index"
   ]
  },
  {
   "cell_type": "code",
   "execution_count": null,
   "metadata": {},
   "outputs": [],
   "source": [
    "# spinfo_df = spinfo_df.drop(index=zeroidx)"
   ]
  },
  {
   "cell_type": "code",
   "execution_count": null,
   "metadata": {},
   "outputs": [],
   "source": [
    "# 连接该店会员信息表和会员消费表\n",
    "df1 = hyinfo_df.merge(hyxf_df, on='kh')"
   ]
  },
  {
   "cell_type": "code",
   "execution_count": null,
   "metadata": {},
   "outputs": [],
   "source": [
    "df1.columns"
   ]
  },
  {
   "cell_type": "code",
   "execution_count": null,
   "metadata": {},
   "outputs": [],
   "source": [
    "# 删除重复的卡号列，收音机号，柜组名称（太多缺失）\n",
    "df1 = df1.drop(columns=['kh.1', 'syjh', 'gzmc'])"
   ]
  },
  {
   "cell_type": "code",
   "execution_count": null,
   "metadata": {},
   "outputs": [],
   "source": [
    "# 增加优惠列，用售价减去消费金额\n",
    "df1['yh'] = df1['sj'] - df1['je']"
   ]
  },
  {
   "cell_type": "code",
   "execution_count": null,
   "metadata": {},
   "outputs": [],
   "source": [
    "# 计算年龄\n",
    "df1['csny'] = df1['csny'].astype('datetime64[Y]')\n",
    "df1['nl'] = [(2018 - date.year) for date in list(df1['csny'])]"
   ]
  },
  {
   "cell_type": "code",
   "execution_count": null,
   "metadata": {},
   "outputs": [],
   "source": [
    "df1 = df1.drop(columns=['csny'])"
   ]
  },
  {
   "cell_type": "code",
   "execution_count": null,
   "metadata": {},
   "outputs": [],
   "source": [
    "# 计算消费时间\n",
    "df1['dtime'] = df1['dtime'].astype('datetime64')\n",
    "df1['dayofweek'] = df1['dtime'].dt.dayofweek\n",
    "df1['hour'] = df1['dtime'].dt.hour"
   ]
  },
  {
   "cell_type": "code",
   "execution_count": null,
   "metadata": {},
   "outputs": [],
   "source": [
    "df1"
   ]
  },
  {
   "cell_type": "code",
   "execution_count": null,
   "metadata": {},
   "outputs": [],
   "source": [
    "# 保存为二进制的pickle格式，方便下次快速读取\n",
    "import pickle\n",
    "with open('（本店）会员信息和会员消费.pkl', 'wb') as f:\n",
    "    pickle.dump(df1, f)"
   ]
  },
  {
   "cell_type": "code",
   "execution_count": null,
   "metadata": {},
   "outputs": [],
   "source": [
    "# 非会员数据是从消费流水中删除会员消费的单据号\n",
    "hydjh = list(hyxf_df['djh'])\n",
    "hydjhidx = []\n",
    "for i,row in xsls_df.iterrows():\n",
    "    if row['djh'] in hydjh:\n",
    "        hydjhidx.append(i)"
   ]
  },
  {
   "cell_type": "code",
   "execution_count": null,
   "metadata": {},
   "outputs": [],
   "source": [
    "df2 = xsls_df.drop(index=hydjhidx)"
   ]
  },
  {
   "cell_type": "code",
   "execution_count": null,
   "metadata": {},
   "outputs": [],
   "source": [
    "df2['dtime'] = df2['dtime'].astype('datetime64')\n",
    "df2['dayofweek'] = df2['dtime'].dt.dayofweek\n",
    "df2['hour'] = df2['dtime'].dt.hour"
   ]
  },
  {
   "cell_type": "code",
   "execution_count": null,
   "metadata": {},
   "outputs": [],
   "source": [
    "df2 = df2.drop(columns='syjh')"
   ]
  },
  {
   "cell_type": "code",
   "execution_count": null,
   "metadata": {},
   "outputs": [],
   "source": [
    "df2['yh'] =  df2['sj'] - df2['je']"
   ]
  },
  {
   "cell_type": "code",
   "execution_count": null,
   "metadata": {},
   "outputs": [],
   "source": [
    "# 保存pickle\n",
    "with open('非会员消费.pkl', 'wb') as f:\n",
    "    pickle.dump(df2, f)"
   ]
  },
  {
   "cell_type": "code",
   "execution_count": null,
   "metadata": {},
   "outputs": [],
   "source": [
    "# 整理所有会员的购买信息（包括非本商场会员）\n",
    "df3 = hyxf_df.merge(spinfo_df[['spbm', 'lbbm', 'ppbm', 'csbm', 'wsjj', 'hsjj', 'jxs', 'xxs', 'jlrq']], on='spbm', how='inner')"
   ]
  },
  {
   "cell_type": "code",
   "execution_count": null,
   "metadata": {},
   "outputs": [],
   "source": [
    "['kh', 'dtime', 'spbm', 'sl', 'sj', 'je', 'spmc', 'jf', 'syjh', 'djh',\n",
    "       'gzbm', 'gzmc', 'lbbm', 'ppbm', 'csbm', 'wsjj', 'hsjj', 'jxs', 'xxs',\n",
    "       'jlrq']"
   ]
  },
  {
   "cell_type": "code",
   "execution_count": 69,
   "metadata": {},
   "outputs": [],
   "source": [
    "df3['dtime'] = df3['dtime'].astype('datetime64')\n",
    "df3 = df3.drop(columns=['syjh'])"
   ]
  },
  {
   "cell_type": "code",
   "execution_count": 67,
   "metadata": {},
   "outputs": [],
   "source": [
    "# 保存pickle\n",
    "with open('所有会员消费.pkl', 'wb') as f:\n",
    "    pickle.dump(df3, f)"
   ]
  }
 ],
 "metadata": {
  "kernelspec": {
   "display_name": "base",
   "language": "python",
   "name": "python3"
  },
  "language_info": {
   "codemirror_mode": {
    "name": "ipython",
    "version": 3
   },
   "file_extension": ".py",
   "mimetype": "text/x-python",
   "name": "python",
   "nbconvert_exporter": "python",
   "pygments_lexer": "ipython3",
   "version": "3.7.6"
  },
  "orig_nbformat": 4
 },
 "nbformat": 4,
 "nbformat_minor": 2
}
