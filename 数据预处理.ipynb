{
 "cells": [
  {
   "cell_type": "code",
   "execution_count": 3,
   "metadata": {},
   "outputs": [],
   "source": [
    "import pandas as pd"
   ]
  },
  {
   "cell_type": "code",
   "execution_count": 4,
   "metadata": {},
   "outputs": [],
   "source": [
    "# 依次读入数据并查看缺失值情况\n",
    "hyinfo_df = pd.read_excel('附件1-会员信息表.xlsx',sheet_name=0)"
   ]
  },
  {
   "cell_type": "code",
   "execution_count": 5,
   "metadata": {},
   "outputs": [
    {
     "data": {
      "text/plain": [
       "kh          0\n",
       "kh.1        0\n",
       "csny    34188\n",
       "xb       9435\n",
       "djsj    12684\n",
       "dtype: int64"
      ]
     },
     "execution_count": 5,
     "metadata": {},
     "output_type": "execute_result"
    }
   ],
   "source": [
    "hyinfo_df.isna().sum()"
   ]
  },
  {
   "cell_type": "code",
   "execution_count": 6,
   "metadata": {},
   "outputs": [
    {
     "data": {
      "text/plain": [
       "djh      0\n",
       "spbm     0\n",
       "sj       0\n",
       "sl       0\n",
       "je       0\n",
       "dtime    0\n",
       "syjh     0\n",
       "dtype: int64"
      ]
     },
     "execution_count": 6,
     "metadata": {},
     "output_type": "execute_result"
    }
   ],
   "source": [
    "xsls_df = pd.read_excel('附件2-销售流水表.xlsx')\n",
    "xsls_df.isna().sum()"
   ]
  },
  {
   "cell_type": "code",
   "execution_count": 7,
   "metadata": {},
   "outputs": [
    {
     "data": {
      "text/plain": [
       "kh           0\n",
       "dtime        0\n",
       "spbm         0\n",
       "sl           0\n",
       "sj           0\n",
       "je           0\n",
       "spmc         0\n",
       "jf           0\n",
       "syjh         0\n",
       "djh          0\n",
       "gzbm         0\n",
       "gzmc     20478\n",
       "dtype: int64"
      ]
     },
     "execution_count": 7,
     "metadata": {},
     "output_type": "execute_result"
    }
   ],
   "source": [
    "hyxf_df = pd.read_excel('附件3-会员消费明细表.xlsx')\n",
    "hyxf_df.isna().sum()"
   ]
  },
  {
   "cell_type": "code",
   "execution_count": 8,
   "metadata": {},
   "outputs": [
    {
     "data": {
      "text/plain": [
       "spbm     0\n",
       "spmc     0\n",
       "splm    10\n",
       "ppbm     0\n",
       "lbbm     0\n",
       "jxs      0\n",
       "xxs      0\n",
       "wsjj     0\n",
       "hsjj     0\n",
       "sj       0\n",
       "jlrq     1\n",
       "csbm     0\n",
       "gzbm     2\n",
       "dtype: int64"
      ]
     },
     "execution_count": 8,
     "metadata": {},
     "output_type": "execute_result"
    }
   ],
   "source": [
    "spinfo_df = pd.read_excel('附件4-商品信息表.xlsx')\n",
    "spinfo_df.isna().sum()"
   ]
  },
  {
   "cell_type": "code",
   "execution_count": 9,
   "metadata": {},
   "outputs": [],
   "source": [
    "# 删除spinfo_df中有空值的行\n",
    "nullidx = spinfo_df[spinfo_df.isna().any(axis=1)].index"
   ]
  },
  {
   "cell_type": "code",
   "execution_count": 10,
   "metadata": {},
   "outputs": [],
   "source": [
    "spinfo_df = spinfo_df.drop(index=nullidx)"
   ]
  },
  {
   "cell_type": "code",
   "execution_count": 11,
   "metadata": {},
   "outputs": [],
   "source": [
    "# 连接该店会员信息表和会员消费表\n",
    "df1 = hyinfo_df.merge(hyxf_df, on='kh')"
   ]
  },
  {
   "cell_type": "code",
   "execution_count": 12,
   "metadata": {},
   "outputs": [
    {
     "data": {
      "text/plain": [
       "Index(['kh', 'kh.1', 'csny', 'xb', 'djsj', 'dtime', 'spbm', 'sl', 'sj', 'je',\n",
       "       'spmc', 'jf', 'syjh', 'djh', 'gzbm', 'gzmc'],\n",
       "      dtype='object')"
      ]
     },
     "execution_count": 12,
     "metadata": {},
     "output_type": "execute_result"
    }
   ],
   "source": [
    "df1.columns"
   ]
  },
  {
   "cell_type": "code",
   "execution_count": 13,
   "metadata": {},
   "outputs": [],
   "source": [
    "# 删除重复的卡号列，收音机号，柜组名称（太多缺失）\n",
    "df1 = df1.drop(columns=['kh.1', 'syjh', 'gzmc'])"
   ]
  },
  {
   "cell_type": "code",
   "execution_count": 14,
   "metadata": {},
   "outputs": [],
   "source": [
    "# 增加优惠列，用售价减去消费金额\n",
    "df1['yh'] = df1['sj'] - df1['je']"
   ]
  },
  {
   "cell_type": "code",
   "execution_count": 16,
   "metadata": {},
   "outputs": [],
   "source": [
    "# 计算年龄\n",
    "df1['csny'] = df1['csny'].astype('datetime64[Y]')\n",
    "df1['nl'] = [(2018 - date.year) for date in list(df1['csny'])]"
   ]
  },
  {
   "cell_type": "code",
   "execution_count": 17,
   "metadata": {},
   "outputs": [],
   "source": [
    "df1 = df1.drop(columns=['csny'])"
   ]
  },
  {
   "cell_type": "code",
   "execution_count": 23,
   "metadata": {},
   "outputs": [],
   "source": [
    "# 计算消费时间\n",
    "df1['dtime'] = df1['dtime'].astype('datetime64')\n",
    "df1['dayofweek'] = df1['dtime'].dt.dayofweek\n",
    "df1['hour'] = df1['dtime'].dt.hour\n",
    "df1['dayofyear'] = df1['dtime'].dt.dayofyear"
   ]
  },
  {
   "cell_type": "code",
   "execution_count": 24,
   "metadata": {},
   "outputs": [
    {
     "data": {
      "text/html": [
       "<div>\n",
       "<style scoped>\n",
       "    .dataframe tbody tr th:only-of-type {\n",
       "        vertical-align: middle;\n",
       "    }\n",
       "\n",
       "    .dataframe tbody tr th {\n",
       "        vertical-align: top;\n",
       "    }\n",
       "\n",
       "    .dataframe thead th {\n",
       "        text-align: right;\n",
       "    }\n",
       "</style>\n",
       "<table border=\"1\" class=\"dataframe\">\n",
       "  <thead>\n",
       "    <tr style=\"text-align: right;\">\n",
       "      <th></th>\n",
       "      <th>kh</th>\n",
       "      <th>xb</th>\n",
       "      <th>djsj</th>\n",
       "      <th>dtime</th>\n",
       "      <th>spbm</th>\n",
       "      <th>sl</th>\n",
       "      <th>sj</th>\n",
       "      <th>je</th>\n",
       "      <th>spmc</th>\n",
       "      <th>jf</th>\n",
       "      <th>djh</th>\n",
       "      <th>gzbm</th>\n",
       "      <th>yh</th>\n",
       "      <th>nl</th>\n",
       "      <th>dayofweek</th>\n",
       "      <th>hour</th>\n",
       "    </tr>\n",
       "  </thead>\n",
       "  <tbody>\n",
       "    <tr>\n",
       "      <th>0</th>\n",
       "      <td>a37cc182</td>\n",
       "      <td>0.0</td>\n",
       "      <td>2004-12-31 21:24:34.216</td>\n",
       "      <td>2016-09-25 10:49:14.016</td>\n",
       "      <td>d62a69e3</td>\n",
       "      <td>1</td>\n",
       "      <td>12288.0</td>\n",
       "      <td>11089.93</td>\n",
       "      <td>WMF D无</td>\n",
       "      <td>11089.92</td>\n",
       "      <td>7cd8</td>\n",
       "      <td>7296</td>\n",
       "      <td>1198.07</td>\n",
       "      <td>51.0</td>\n",
       "      <td>6</td>\n",
       "      <td>10</td>\n",
       "    </tr>\n",
       "    <tr>\n",
       "      <th>1</th>\n",
       "      <td>a37cc182</td>\n",
       "      <td>0.0</td>\n",
       "      <td>2004-12-31 21:24:34.216</td>\n",
       "      <td>2016-09-25 10:49:14.016</td>\n",
       "      <td>d62a69e3</td>\n",
       "      <td>1</td>\n",
       "      <td>499.0</td>\n",
       "      <td>297.07</td>\n",
       "      <td>WMF D无</td>\n",
       "      <td>297.08</td>\n",
       "      <td>7cd8</td>\n",
       "      <td>7296</td>\n",
       "      <td>201.93</td>\n",
       "      <td>51.0</td>\n",
       "      <td>6</td>\n",
       "      <td>10</td>\n",
       "    </tr>\n",
       "    <tr>\n",
       "      <th>2</th>\n",
       "      <td>a37cc182</td>\n",
       "      <td>0.0</td>\n",
       "      <td>2004-12-31 21:24:34.216</td>\n",
       "      <td>2017-02-28 17:17:35.533</td>\n",
       "      <td>252403ef</td>\n",
       "      <td>1</td>\n",
       "      <td>598.0</td>\n",
       "      <td>598.00</td>\n",
       "      <td>双立人商品 F无</td>\n",
       "      <td>598.00</td>\n",
       "      <td>ed0a</td>\n",
       "      <td>7242</td>\n",
       "      <td>0.00</td>\n",
       "      <td>51.0</td>\n",
       "      <td>1</td>\n",
       "      <td>17</td>\n",
       "    </tr>\n",
       "    <tr>\n",
       "      <th>3</th>\n",
       "      <td>34c2dc93</td>\n",
       "      <td>0.0</td>\n",
       "      <td>2007-04-19 00:00:00.000</td>\n",
       "      <td>2017-11-13 13:36:45.656</td>\n",
       "      <td>4708e0bb</td>\n",
       "      <td>1</td>\n",
       "      <td>260.0</td>\n",
       "      <td>260.00</td>\n",
       "      <td>植村秀三色眼影/眼线液/眉笔.</td>\n",
       "      <td>260.00</td>\n",
       "      <td>c3f4</td>\n",
       "      <td>8156</td>\n",
       "      <td>0.00</td>\n",
       "      <td>32.0</td>\n",
       "      <td>0</td>\n",
       "      <td>13</td>\n",
       "    </tr>\n",
       "    <tr>\n",
       "      <th>4</th>\n",
       "      <td>828aa9b4</td>\n",
       "      <td>0.0</td>\n",
       "      <td>2004-09-24 16:39:08.716</td>\n",
       "      <td>2017-05-17 11:30:39.080</td>\n",
       "      <td>a4809307</td>\n",
       "      <td>1</td>\n",
       "      <td>1288.0</td>\n",
       "      <td>1288.00</td>\n",
       "      <td>酷彩F件</td>\n",
       "      <td>1288.00</td>\n",
       "      <td>95b0</td>\n",
       "      <td>7300</td>\n",
       "      <td>0.00</td>\n",
       "      <td>67.0</td>\n",
       "      <td>2</td>\n",
       "      <td>11</td>\n",
       "    </tr>\n",
       "    <tr>\n",
       "      <th>...</th>\n",
       "      <td>...</td>\n",
       "      <td>...</td>\n",
       "      <td>...</td>\n",
       "      <td>...</td>\n",
       "      <td>...</td>\n",
       "      <td>...</td>\n",
       "      <td>...</td>\n",
       "      <td>...</td>\n",
       "      <td>...</td>\n",
       "      <td>...</td>\n",
       "      <td>...</td>\n",
       "      <td>...</td>\n",
       "      <td>...</td>\n",
       "      <td>...</td>\n",
       "      <td>...</td>\n",
       "      <td>...</td>\n",
       "    </tr>\n",
       "    <tr>\n",
       "      <th>542630</th>\n",
       "      <td>978bf4cc</td>\n",
       "      <td>0.0</td>\n",
       "      <td>2012-12-17 00:00:00.000</td>\n",
       "      <td>2017-11-26 17:54:05.063</td>\n",
       "      <td>36d50bfb</td>\n",
       "      <td>1</td>\n",
       "      <td>8096.0</td>\n",
       "      <td>7934.08</td>\n",
       "      <td>浪琴.</td>\n",
       "      <td>1587.00</td>\n",
       "      <td>8a3f</td>\n",
       "      <td>8078</td>\n",
       "      <td>161.92</td>\n",
       "      <td>35.0</td>\n",
       "      <td>6</td>\n",
       "      <td>17</td>\n",
       "    </tr>\n",
       "    <tr>\n",
       "      <th>542631</th>\n",
       "      <td>7adcdd4e</td>\n",
       "      <td>0.0</td>\n",
       "      <td>2013-08-30 00:00:00.000</td>\n",
       "      <td>2017-01-18 17:35:30.533</td>\n",
       "      <td>886d14dc</td>\n",
       "      <td>1</td>\n",
       "      <td>498.0</td>\n",
       "      <td>498.00</td>\n",
       "      <td>双立人商品系列无</td>\n",
       "      <td>498.00</td>\n",
       "      <td>ba1d</td>\n",
       "      <td>7242</td>\n",
       "      <td>0.00</td>\n",
       "      <td>46.0</td>\n",
       "      <td>2</td>\n",
       "      <td>17</td>\n",
       "    </tr>\n",
       "    <tr>\n",
       "      <th>542632</th>\n",
       "      <td>5cf06746</td>\n",
       "      <td>0.0</td>\n",
       "      <td>2013-08-30 00:00:00.000</td>\n",
       "      <td>2017-10-29 13:47:11.046</td>\n",
       "      <td>083ad3b7</td>\n",
       "      <td>1</td>\n",
       "      <td>2880.0</td>\n",
       "      <td>2880.00</td>\n",
       "      <td>威可多 F.</td>\n",
       "      <td>2880.00</td>\n",
       "      <td>25bb</td>\n",
       "      <td>5445</td>\n",
       "      <td>0.00</td>\n",
       "      <td>45.0</td>\n",
       "      <td>6</td>\n",
       "      <td>13</td>\n",
       "    </tr>\n",
       "    <tr>\n",
       "      <th>542633</th>\n",
       "      <td>5cf06746</td>\n",
       "      <td>0.0</td>\n",
       "      <td>2013-08-30 00:00:00.000</td>\n",
       "      <td>2017-10-29 13:47:11.046</td>\n",
       "      <td>083ad3b7</td>\n",
       "      <td>1</td>\n",
       "      <td>1320.0</td>\n",
       "      <td>1320.00</td>\n",
       "      <td>威可多 F.</td>\n",
       "      <td>1320.00</td>\n",
       "      <td>25bb</td>\n",
       "      <td>5445</td>\n",
       "      <td>0.00</td>\n",
       "      <td>45.0</td>\n",
       "      <td>6</td>\n",
       "      <td>13</td>\n",
       "    </tr>\n",
       "    <tr>\n",
       "      <th>542634</th>\n",
       "      <td>5cf06746</td>\n",
       "      <td>0.0</td>\n",
       "      <td>2013-08-30 00:00:00.000</td>\n",
       "      <td>2017-10-29 15:18:28.453</td>\n",
       "      <td>c7c36a0d</td>\n",
       "      <td>1</td>\n",
       "      <td>323.0</td>\n",
       "      <td>123.00</td>\n",
       "      <td>玛丽亚·古奇B.5件</td>\n",
       "      <td>123.00</td>\n",
       "      <td>95b0</td>\n",
       "      <td>4369</td>\n",
       "      <td>200.00</td>\n",
       "      <td>45.0</td>\n",
       "      <td>6</td>\n",
       "      <td>15</td>\n",
       "    </tr>\n",
       "  </tbody>\n",
       "</table>\n",
       "<p>542635 rows × 16 columns</p>\n",
       "</div>"
      ],
      "text/plain": [
       "              kh   xb                    djsj                   dtime  \\\n",
       "0       a37cc182  0.0 2004-12-31 21:24:34.216 2016-09-25 10:49:14.016   \n",
       "1       a37cc182  0.0 2004-12-31 21:24:34.216 2016-09-25 10:49:14.016   \n",
       "2       a37cc182  0.0 2004-12-31 21:24:34.216 2017-02-28 17:17:35.533   \n",
       "3       34c2dc93  0.0 2007-04-19 00:00:00.000 2017-11-13 13:36:45.656   \n",
       "4       828aa9b4  0.0 2004-09-24 16:39:08.716 2017-05-17 11:30:39.080   \n",
       "...          ...  ...                     ...                     ...   \n",
       "542630  978bf4cc  0.0 2012-12-17 00:00:00.000 2017-11-26 17:54:05.063   \n",
       "542631  7adcdd4e  0.0 2013-08-30 00:00:00.000 2017-01-18 17:35:30.533   \n",
       "542632  5cf06746  0.0 2013-08-30 00:00:00.000 2017-10-29 13:47:11.046   \n",
       "542633  5cf06746  0.0 2013-08-30 00:00:00.000 2017-10-29 13:47:11.046   \n",
       "542634  5cf06746  0.0 2013-08-30 00:00:00.000 2017-10-29 15:18:28.453   \n",
       "\n",
       "            spbm  sl       sj        je             spmc        jf   djh  \\\n",
       "0       d62a69e3   1  12288.0  11089.93           WMF D无  11089.92  7cd8   \n",
       "1       d62a69e3   1    499.0    297.07           WMF D无    297.08  7cd8   \n",
       "2       252403ef   1    598.0    598.00         双立人商品 F无    598.00  ed0a   \n",
       "3       4708e0bb   1    260.0    260.00  植村秀三色眼影/眼线液/眉笔.    260.00  c3f4   \n",
       "4       a4809307   1   1288.0   1288.00             酷彩F件   1288.00  95b0   \n",
       "...          ...  ..      ...       ...              ...       ...   ...   \n",
       "542630  36d50bfb   1   8096.0   7934.08              浪琴.   1587.00  8a3f   \n",
       "542631  886d14dc   1    498.0    498.00         双立人商品系列无    498.00  ba1d   \n",
       "542632  083ad3b7   1   2880.0   2880.00           威可多 F.   2880.00  25bb   \n",
       "542633  083ad3b7   1   1320.0   1320.00           威可多 F.   1320.00  25bb   \n",
       "542634  c7c36a0d   1    323.0    123.00       玛丽亚·古奇B.5件    123.00  95b0   \n",
       "\n",
       "        gzbm       yh    nl  dayofweek  hour  \n",
       "0       7296  1198.07  51.0          6    10  \n",
       "1       7296   201.93  51.0          6    10  \n",
       "2       7242     0.00  51.0          1    17  \n",
       "3       8156     0.00  32.0          0    13  \n",
       "4       7300     0.00  67.0          2    11  \n",
       "...      ...      ...   ...        ...   ...  \n",
       "542630  8078   161.92  35.0          6    17  \n",
       "542631  7242     0.00  46.0          2    17  \n",
       "542632  5445     0.00  45.0          6    13  \n",
       "542633  5445     0.00  45.0          6    13  \n",
       "542634  4369   200.00  45.0          6    15  \n",
       "\n",
       "[542635 rows x 16 columns]"
      ]
     },
     "execution_count": 24,
     "metadata": {},
     "output_type": "execute_result"
    }
   ],
   "source": [
    "df1"
   ]
  },
  {
   "cell_type": "code",
   "execution_count": 32,
   "metadata": {},
   "outputs": [],
   "source": [
    "# 保存为二进制的pickle格式，方便下次快速读取\n",
    "import pickle\n",
    "with open('（本店）会员信息和会员消费.pkl', 'wb') as f:\n",
    "    pickle.dump(df1, f)"
   ]
  },
  {
   "cell_type": "code",
   "execution_count": 38,
   "metadata": {},
   "outputs": [],
   "source": [
    "# 非会员数据是从消费流水中删除会员消费的单据号\n",
    "hydjh = list(hyxf_df['djh'])\n",
    "hydjhidx = []\n",
    "for i,row in xsls_df.iterrows():\n",
    "    if row['djh'] in hydjh:\n",
    "        hydjhidx.append(i)"
   ]
  },
  {
   "cell_type": "code",
   "execution_count": 43,
   "metadata": {},
   "outputs": [],
   "source": [
    "df2 = xsls_df.drop(index=hydjhidx)"
   ]
  },
  {
   "cell_type": "code",
   "execution_count": 1,
   "metadata": {},
   "outputs": [
    {
     "ename": "NameError",
     "evalue": "name 'df2' is not defined",
     "output_type": "error",
     "traceback": [
      "\u001b[1;31m---------------------------------------------------------------------------\u001b[0m",
      "\u001b[1;31mNameError\u001b[0m                                 Traceback (most recent call last)",
      "\u001b[1;32m<ipython-input-1-682fb1390f02>\u001b[0m in \u001b[0;36m<module>\u001b[1;34m\u001b[0m\n\u001b[1;32m----> 1\u001b[1;33m \u001b[0mdf2\u001b[0m\u001b[1;33m[\u001b[0m\u001b[1;34m'dtime'\u001b[0m\u001b[1;33m]\u001b[0m \u001b[1;33m=\u001b[0m \u001b[0mdf2\u001b[0m\u001b[1;33m[\u001b[0m\u001b[1;34m'dtime'\u001b[0m\u001b[1;33m]\u001b[0m\u001b[1;33m.\u001b[0m\u001b[0mastype\u001b[0m\u001b[1;33m(\u001b[0m\u001b[1;34m'datetime64'\u001b[0m\u001b[1;33m)\u001b[0m\u001b[1;33m\u001b[0m\u001b[1;33m\u001b[0m\u001b[0m\n\u001b[0m\u001b[0;32m      2\u001b[0m \u001b[0mdf2\u001b[0m\u001b[1;33m[\u001b[0m\u001b[1;34m'dayofweek'\u001b[0m\u001b[1;33m]\u001b[0m \u001b[1;33m=\u001b[0m \u001b[0mdf2\u001b[0m\u001b[1;33m[\u001b[0m\u001b[1;34m'dtime'\u001b[0m\u001b[1;33m]\u001b[0m\u001b[1;33m.\u001b[0m\u001b[0mdt\u001b[0m\u001b[1;33m.\u001b[0m\u001b[0mdayofweek\u001b[0m\u001b[1;33m\u001b[0m\u001b[1;33m\u001b[0m\u001b[0m\n\u001b[0;32m      3\u001b[0m \u001b[0mdf2\u001b[0m\u001b[1;33m[\u001b[0m\u001b[1;34m'hour'\u001b[0m\u001b[1;33m]\u001b[0m \u001b[1;33m=\u001b[0m \u001b[0mdf2\u001b[0m\u001b[1;33m[\u001b[0m\u001b[1;34m'dtime'\u001b[0m\u001b[1;33m]\u001b[0m\u001b[1;33m.\u001b[0m\u001b[0mdt\u001b[0m\u001b[1;33m.\u001b[0m\u001b[0mhour\u001b[0m\u001b[1;33m\u001b[0m\u001b[1;33m\u001b[0m\u001b[0m\n\u001b[0;32m      4\u001b[0m \u001b[0mdf2\u001b[0m\u001b[1;33m[\u001b[0m\u001b[1;34m'dayofyear'\u001b[0m\u001b[1;33m]\u001b[0m \u001b[1;33m=\u001b[0m \u001b[0mdf2\u001b[0m\u001b[1;33m[\u001b[0m\u001b[1;34m'dayofyear'\u001b[0m\u001b[1;33m]\u001b[0m\u001b[1;33m.\u001b[0m\u001b[0mdt\u001b[0m\u001b[1;33m.\u001b[0m\u001b[0mdayofyear\u001b[0m\u001b[1;33m\u001b[0m\u001b[1;33m\u001b[0m\u001b[0m\n",
      "\u001b[1;31mNameError\u001b[0m: name 'df2' is not defined"
     ]
    }
   ],
   "source": [
    "df2['dtime'] = df2['dtime'].astype('datetime64')\n",
    "df2['dayofweek'] = df2['dtime'].dt.dayofweek\n",
    "df2['hour'] = df2['dtime'].dt.hour\n",
    "df2['dayofyear'] = df2['dtime'].dt.dayofyear"
   ]
  },
  {
   "cell_type": "code",
   "execution_count": 49,
   "metadata": {},
   "outputs": [],
   "source": [
    "df2 = df2.drop(columns='syjh')"
   ]
  },
  {
   "cell_type": "code",
   "execution_count": 51,
   "metadata": {},
   "outputs": [],
   "source": [
    "df2['yh'] =  df2['sj'] - df2['je']"
   ]
  },
  {
   "cell_type": "code",
   "execution_count": 52,
   "metadata": {},
   "outputs": [],
   "source": [
    "# 保存pickle\n",
    "with open('非会员消费.pkl', 'wb') as f:\n",
    "    pickle.dump(df2, f)"
   ]
  }
 ],
 "metadata": {
  "kernelspec": {
   "display_name": "base",
   "language": "python",
   "name": "python3"
  },
  "language_info": {
   "codemirror_mode": {
    "name": "ipython",
    "version": 3
   },
   "file_extension": ".py",
   "mimetype": "text/x-python",
   "name": "python",
   "nbconvert_exporter": "python",
   "pygments_lexer": "ipython3",
   "version": "3.7.6"
  },
  "orig_nbformat": 4
 },
 "nbformat": 4,
 "nbformat_minor": 2
}
